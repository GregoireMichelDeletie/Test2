{
  "cells": [
    {
      "cell_type": "markdown",
      "metadata": {
        "id": "yXool8-74wsH"
      },
      "source": [
        "<a href=\"https://colab.research.google.com/github/kreshuklab/ADL4IA-2025/blob/main/U-Net_exercises/pytorch/2_data_augmentation.ipynb\" target=\"_parent\"><img src=\"https://colab.research.google.com/assets/colab-badge.svg\" alt=\"Open In Colab\"/></a>"
      ]
    },
    {
      "cell_type": "markdown",
      "metadata": {
        "id": "Xr3oCM0LzQa8"
      },
      "source": [
        "# Data Augmentation on CIFAR10\n",
        "\n",
        "In this exercise we will use data augmentation to increase the available training data and thus improve the network training performance. We will use the same network architecture as in the previous exercise."
      ]
    },
    {
      "cell_type": "markdown",
      "metadata": {
        "id": "gpwe4yHX4wsM"
      },
      "source": [
        "## Downloading the data - Colab"
      ]
    },
    {
      "cell_type": "code",
      "execution_count": 1,
      "metadata": {
        "colab": {
          "base_uri": "https://localhost:8080/"
        },
        "id": "vFVzFv9J4wsM",
        "outputId": "86bba4f6-a62a-4d6c-a3c6-cfef96d7b591"
      },
      "outputs": [
        {
          "output_type": "stream",
          "name": "stdout",
          "text": [
            "Collecting cifar2png\n",
            "  Downloading cifar2png-0.0.4.tar.gz (5.8 kB)\n",
            "  Preparing metadata (setup.py) ... \u001b[?25l\u001b[?25hdone\n",
            "Requirement already satisfied: numpy in /usr/local/lib/python3.11/dist-packages (from cifar2png) (2.0.2)\n",
            "Requirement already satisfied: pathlib in /usr/local/lib/python3.11/dist-packages (from cifar2png) (1.0.1)\n",
            "Requirement already satisfied: Pillow>=6.2.0 in /usr/local/lib/python3.11/dist-packages (from cifar2png) (11.2.1)\n",
            "Requirement already satisfied: requests>=2.20.0 in /usr/local/lib/python3.11/dist-packages (from cifar2png) (2.32.3)\n",
            "Requirement already satisfied: six in /usr/local/lib/python3.11/dist-packages (from cifar2png) (1.17.0)\n",
            "Requirement already satisfied: tqdm in /usr/local/lib/python3.11/dist-packages (from cifar2png) (4.67.1)\n",
            "Requirement already satisfied: charset-normalizer<4,>=2 in /usr/local/lib/python3.11/dist-packages (from requests>=2.20.0->cifar2png) (3.4.2)\n",
            "Requirement already satisfied: idna<4,>=2.5 in /usr/local/lib/python3.11/dist-packages (from requests>=2.20.0->cifar2png) (3.10)\n",
            "Requirement already satisfied: urllib3<3,>=1.21.1 in /usr/local/lib/python3.11/dist-packages (from requests>=2.20.0->cifar2png) (2.4.0)\n",
            "Requirement already satisfied: certifi>=2017.4.17 in /usr/local/lib/python3.11/dist-packages (from requests>=2.20.0->cifar2png) (2025.4.26)\n",
            "Building wheels for collected packages: cifar2png\n",
            "  Building wheel for cifar2png (setup.py) ... \u001b[?25l\u001b[?25hdone\n",
            "  Created wheel for cifar2png: filename=cifar2png-0.0.4-py3-none-any.whl size=5910 sha256=7a4501b90c27748d95f1b543e9b3fd0fe79b913806c30aba0a1985297720fe28\n",
            "  Stored in directory: /root/.cache/pip/wheels/cb/2d/1c/b20d886bfeee732003537e1a30949e0a2d5295d674a13ca2a0\n",
            "Successfully built cifar2png\n",
            "Installing collected packages: cifar2png\n",
            "Successfully installed cifar2png-0.0.4\n",
            "cifar-10-python.tar.gz does not exists.\n",
            "Downloading cifar-10-python.tar.gz\n",
            "167kKB [00:09, 16.7kKB/s]              \n",
            "Saving train images: 100% 50000/50000 [00:23<00:00, 2172.48it/s]\n",
            "Saving test images: 100% 10000/10000 [00:05<00:00, 1976.95it/s]\n",
            "--2025-05-13 09:05:50--  https://raw.githubusercontent.com/kreshuklab/ADL4IA-2025/refs/heads/main/U-Net_exercises/pytorch/utils.py\n",
            "Resolving raw.githubusercontent.com (raw.githubusercontent.com)... 185.199.108.133, 185.199.109.133, 185.199.110.133, ...\n",
            "Connecting to raw.githubusercontent.com (raw.githubusercontent.com)|185.199.108.133|:443... connected.\n",
            "HTTP request sent, awaiting response... 200 OK\n",
            "Length: 14051 (14K) [text/plain]\n",
            "Saving to: ‘utils.py’\n",
            "\n",
            "utils.py            100%[===================>]  13.72K  --.-KB/s    in 0s      \n",
            "\n",
            "2025-05-13 09:05:50 (27.7 MB/s) - ‘utils.py’ saved [14051/14051]\n",
            "\n"
          ]
        }
      ],
      "source": [
        "# Uncomment if you use Colab\n",
        "!pip install cifar2png\n",
        "cifar_dir = './cifar10'\n",
        "!cifar2png cifar10 {cifar_dir}\n",
        "# run this in google colab to get the utils.py file\n",
        "!wget https://raw.githubusercontent.com/kreshuklab/ADL4IA-2025/refs/heads/main/U-Net_exercises/pytorch/utils.py"
      ]
    },
    {
      "cell_type": "markdown",
      "metadata": {
        "id": "tPqVdmKe4wsN"
      },
      "source": [
        "## Downloading the data - BARD\n",
        "\n",
        "Data used in webinars is already downloaded and can be found in `\"/scratch/denbi/k8s/ADL4IA_pre-course/\"`"
      ]
    },
    {
      "cell_type": "code",
      "execution_count": null,
      "metadata": {
        "id": "A-LoJcAh4wsO"
      },
      "outputs": [],
      "source": [
        "cifar_dir = \"/scratch/denbi/k8s/ADL4IA_pre-course/cifar10\""
      ]
    },
    {
      "cell_type": "markdown",
      "metadata": {
        "id": "Erdj5852F4mv"
      },
      "source": [
        "## Preparation"
      ]
    },
    {
      "cell_type": "code",
      "execution_count": 2,
      "metadata": {
        "id": "iX0lcNv2zQba"
      },
      "outputs": [],
      "source": [
        "# import torch and other libraries\n",
        "import os\n",
        "import numpy as np\n",
        "import sklearn.metrics as metrics\n",
        "import matplotlib.pyplot as plt\n",
        "import wandb\n",
        "\n",
        "import torch\n",
        "import torch.nn as nn\n",
        "from torch.utils.data import DataLoader\n",
        "from torch.optim import Adam"
      ]
    },
    {
      "cell_type": "code",
      "execution_count": 3,
      "metadata": {
        "id": "_adA5sMRzQb0",
        "colab": {
          "base_uri": "https://localhost:8080/"
        },
        "outputId": "d7cdcc32-d254-4ee6-97f6-5031110e4b2e"
      },
      "outputs": [
        {
          "output_type": "stream",
          "name": "stdout",
          "text": [
            "GPU is not available, training will run on the CPU\n"
          ]
        }
      ],
      "source": [
        "# check if we have gpu support\n",
        "# colab offers free gpus, however they are not activated by default.\n",
        "# to activate the gpu, go to 'Runtime->Change runtime type'.\n",
        "# Then select 'GPU' in 'Hardware accelerator' and click 'Save'\n",
        "have_gpu = torch.cuda.is_available()\n",
        "# we need to define the device for torch, yadda yadda\n",
        "if have_gpu:\n",
        "    print(\"GPU is available\")\n",
        "    device = torch.device('cuda')\n",
        "else:\n",
        "    print(\"GPU is not available, training will run on the CPU\")\n",
        "    device = torch.device('cpu')"
      ]
    },
    {
      "cell_type": "code",
      "execution_count": 4,
      "metadata": {
        "colab": {
          "base_uri": "https://localhost:8080/",
          "height": 191
        },
        "id": "x8bzOGrN4wsP",
        "outputId": "4e0afb27-078f-436e-9347-70b4b32c5c0f"
      },
      "outputs": [
        {
          "output_type": "display_data",
          "data": {
            "text/plain": [
              "<IPython.core.display.Javascript object>"
            ],
            "application/javascript": [
              "\n",
              "        window._wandbApiKey = new Promise((resolve, reject) => {\n",
              "            function loadScript(url) {\n",
              "            return new Promise(function(resolve, reject) {\n",
              "                let newScript = document.createElement(\"script\");\n",
              "                newScript.onerror = reject;\n",
              "                newScript.onload = resolve;\n",
              "                document.body.appendChild(newScript);\n",
              "                newScript.src = url;\n",
              "            });\n",
              "            }\n",
              "            loadScript(\"https://cdn.jsdelivr.net/npm/postmate/build/postmate.min.js\").then(() => {\n",
              "            const iframe = document.createElement('iframe')\n",
              "            iframe.style.cssText = \"width:0;height:0;border:none\"\n",
              "            document.body.appendChild(iframe)\n",
              "            const handshake = new Postmate({\n",
              "                container: iframe,\n",
              "                url: 'https://wandb.ai/authorize'\n",
              "            });\n",
              "            const timeout = setTimeout(() => reject(\"Couldn't auto authenticate\"), 5000)\n",
              "            handshake.then(function(child) {\n",
              "                child.on('authorize', data => {\n",
              "                    clearTimeout(timeout)\n",
              "                    resolve(data)\n",
              "                });\n",
              "            });\n",
              "            })\n",
              "        });\n",
              "    "
            ]
          },
          "metadata": {}
        },
        {
          "output_type": "stream",
          "name": "stderr",
          "text": [
            "\u001b[34m\u001b[1mwandb\u001b[0m: Logging into wandb.ai. (Learn how to deploy a W&B server locally: https://wandb.me/wandb-server)\n",
            "\u001b[34m\u001b[1mwandb\u001b[0m: You can find your API key in your browser here: https://wandb.ai/authorize\n",
            "wandb: Paste an API key from your profile and hit enter:"
          ]
        },
        {
          "name": "stdout",
          "output_type": "stream",
          "text": [
            " ··········\n"
          ]
        },
        {
          "output_type": "stream",
          "name": "stderr",
          "text": [
            "\u001b[34m\u001b[1mwandb\u001b[0m: \u001b[33mWARNING\u001b[0m If you're specifying your api key in code, ensure this code is not shared publicly.\n",
            "\u001b[34m\u001b[1mwandb\u001b[0m: \u001b[33mWARNING\u001b[0m Consider setting the WANDB_API_KEY environment variable, or running `wandb login` from the command line.\n",
            "\u001b[34m\u001b[1mwandb\u001b[0m: No netrc file found, creating one.\n",
            "\u001b[34m\u001b[1mwandb\u001b[0m: Appending key for api.wandb.ai to your netrc file: /root/.netrc\n",
            "\u001b[34m\u001b[1mwandb\u001b[0m: Currently logged in as: \u001b[33mgregoire-deletie\u001b[0m (\u001b[33mgregoire-deletie-hmm\u001b[0m) to \u001b[32mhttps://api.wandb.ai\u001b[0m. Use \u001b[1m`wandb login --relogin`\u001b[0m to force relogin\n"
          ]
        },
        {
          "output_type": "execute_result",
          "data": {
            "text/plain": [
              "True"
            ]
          },
          "metadata": {},
          "execution_count": 4
        }
      ],
      "source": [
        "# login to wandb for logging, you will need to create an account if you don't have one already\n",
        "wandb.login()"
      ]
    },
    {
      "cell_type": "code",
      "execution_count": 5,
      "metadata": {
        "id": "UxJnmv9OzQcK"
      },
      "outputs": [],
      "source": [
        "# we will reuse the training function, validation function and\n",
        "# data preparation from the previous notebook\n",
        "import utils"
      ]
    },
    {
      "cell_type": "code",
      "execution_count": 6,
      "metadata": {
        "id": "XK8eKTTSzQcb"
      },
      "outputs": [],
      "source": [
        "categories = os.listdir(os.path.join(cifar_dir, 'train'))\n",
        "categories.sort()"
      ]
    },
    {
      "cell_type": "code",
      "execution_count": 9,
      "metadata": {
        "id": "Q4oLjjV7SGTL",
        "colab": {
          "base_uri": "https://localhost:8080/"
        },
        "outputId": "12812f01-cdf1-4004-e46a-4121bc73b70e"
      },
      "outputs": [
        {
          "output_type": "stream",
          "name": "stderr",
          "text": [
            "100%|██████████| 10/10 [00:56<00:00,  5.62s/it]\n"
          ]
        }
      ],
      "source": [
        "images, labels = utils.load_cifar(os.path.join(cifar_dir, 'train'))\n",
        "(train_images, train_labels,\n",
        " val_images, val_labels) = utils.make_cifar_train_val_split(images, labels)"
      ]
    },
    {
      "cell_type": "markdown",
      "metadata": {
        "id": "XaWkklrjzQci"
      },
      "source": [
        "## Data Augmentation\n",
        "\n",
        "The goal of data augmentation is to increase the amount of training data by transforming the input images in a way that they still resemble realistic images. Popular transformations used in data augmentation include rotations, image flips, color jitter or additive noise.\n",
        "Here, we will start with two transformations:\n",
        "- random flips along the vertical centerline\n",
        "- random color jitters"
      ]
    },
    {
      "cell_type": "code",
      "execution_count": 81,
      "metadata": {
        "id": "JmCMsZI4NHPE"
      },
      "outputs": [],
      "source": [
        "# define random augmentations\n",
        "import skimage.color as color\n",
        "from torchvision.transforms import v2\n",
        "\n",
        "def random_flip(image, target, probability=.5):\n",
        "    \"\"\" Randomly mirror the image across the vertical axis.\n",
        "    \"\"\"\n",
        "    if np.random.rand() < probability:\n",
        "      image = np.array([np.fliplr(im) for im in image])\n",
        "    return image, target\n",
        "\n",
        "def random_rot(image, target, probability=.25):\n",
        "    \"\"\" Randomly rotate the image by 90 degrees.\n",
        "    \"\"\"\n",
        "    x=int(np.random.rand()/probability)\n",
        "    #print(x)\n",
        "    image = np.array([np.rot90(im,x) for im in image])\n",
        "    return image, target\n",
        "\n",
        "def random_crop(image, target, probability=.5):\n",
        "    \"\"\" Randomly rotate the image by 90 degrees.\n",
        "    \"\"\"\n",
        "    tr=v2.RandomResizedCrop(size=image.shape[1:3],scale=(0.7, 0.9), antialias=True)\n",
        "    if np.random.rand() < probability:\n",
        "      image = tr(image)\n",
        "    return image, target\n",
        "\n",
        "def random_color_jitter(image, target, probability=.5):\n",
        "  \"\"\" Randomly jitter the saturation, hue and brightness of the image.\n",
        "  \"\"\"\n",
        "  if np.random.rand() > probability:\n",
        "    # skimage expects WHC instead of CHW\n",
        "    image = image.transpose((1, 2, 0))\n",
        "    # transform image to hsv color space to apply jitter\n",
        "    image = color.rgb2hsv(image)\n",
        "    # compute jitter factors in range 0.66 - 1.5\n",
        "    jitter_factors = 1.5 * np.random.rand(3)\n",
        "    jitter_factors = np.clip(jitter_factors, 0.66, 1.5)\n",
        "    # apply the jitter factors, making sure we stay in correct value range\n",
        "    image *= jitter_factors\n",
        "    image = np.clip(image, 0, 1)\n",
        "    # transform back to rgb and CHW\n",
        "    image = color.hsv2rgb(image)\n",
        "    image = image.transpose((2, 0, 1))\n",
        "  return image, target"
      ]
    },
    {
      "cell_type": "code",
      "execution_count": 82,
      "metadata": {
        "id": "CSPB7ZAjPBkp"
      },
      "outputs": [],
      "source": [
        "# create training dataset with augmentations\n",
        "from functools import partial\n",
        "train_trafos = [\n",
        "    utils.to_channel_first,\n",
        "    utils.normalize,\n",
        "    random_color_jitter,\n",
        "    random_flip,\n",
        "    random_rot,\n",
        "    utils.to_tensor,\n",
        "    random_crop\n",
        "]\n",
        "train_trafos = partial(utils.compose, transforms=train_trafos)\n",
        "\n",
        "train_dataset = utils.DatasetWithTransform(train_images, train_labels,\n",
        "                                            transform=train_trafos)\n",
        "\n",
        "# we don't use data augmentations for the validation set\n",
        "val_dataset = utils.DatasetWithTransform(val_images, val_labels,\n",
        "                                          transform=utils.get_default_cifar_transform())"
      ]
    },
    {
      "cell_type": "code",
      "execution_count": 86,
      "metadata": {
        "id": "BOyeFQHZOz-x",
        "colab": {
          "base_uri": "https://localhost:8080/",
          "height": 212
        },
        "outputId": "dd5d8032-b042-4eb8-b4ac-e01785a918ae"
      },
      "outputs": [
        {
          "output_type": "display_data",
          "data": {
            "text/plain": [
              "<Figure size 1800x400 with 8 Axes>"
            ],
            "image/png": "[encoded data removed]"
          },
          "metadata": {}
        }
      ],
      "source": [
        "# sample augmentations\n",
        "def show_image(ax, image):\n",
        "    # need to go back to numpy array and WHC axis order\n",
        "    image = image.numpy().transpose((1, 2, 0))\n",
        "    ax.imshow(image)\n",
        "\n",
        "n_samples = 8\n",
        "image_id = 0\n",
        "fig, ax = plt.subplots(1, n_samples, figsize=(18, 4))\n",
        "for sample in range(n_samples):\n",
        "    image, _ = train_dataset[0]\n",
        "    show_image(ax[sample], image)"
      ]
    },
    {
      "cell_type": "code",
      "execution_count": 87,
      "metadata": {
        "id": "lXIWFz0AzQcr"
      },
      "outputs": [],
      "source": [
        "# we reuse the model from the previous exercise\n",
        "# if you want you can also use a different CNN architecture that\n",
        "# you have designed in the tasks part of that exercise\n",
        "model = utils.SimpleCNN(10)\n",
        "model = model.to(device)"
      ]
    },
    {
      "cell_type": "code",
      "execution_count": 88,
      "metadata": {
        "id": "OejyDJzOzQc7"
      },
      "outputs": [],
      "source": [
        "# instantiate loaders and optimizer and start tensorboard\n",
        "train_loader = DataLoader(train_dataset, batch_size=4, shuffle=True)\n",
        "val_loader = DataLoader(val_dataset, batch_size=25)\n",
        "optimizer = Adam(model.parameters(), lr=1.e-3)\n"
      ]
    },
    {
      "cell_type": "code",
      "execution_count": 90,
      "metadata": {
        "id": "ka_zkBLdzQdC",
        "colab": {
          "base_uri": "https://localhost:8080/",
          "height": 839
        },
        "outputId": "546e6bcb-0af4-4fce-d7f0-f04aeb98733b"
      },
      "outputs": [
        {
          "output_type": "display_data",
          "data": {
            "text/plain": [
              "<IPython.core.display.HTML object>"
            ],
            "text/html": [
              "Finishing previous runs because reinit is set to 'default'."
            ]
          },
          "metadata": {}
        },
        {
          "output_type": "display_data",
          "data": {
            "text/plain": [
              "<IPython.core.display.HTML object>"
            ],
            "text/html": []
          },
          "metadata": {}
        },
        {
          "output_type": "display_data",
          "data": {
            "text/plain": [
              "<IPython.core.display.HTML object>"
            ],
            "text/html": [
              "<br>    <style><br>        .wandb-row {<br>            display: flex;<br>            flex-direction: row;<br>            flex-wrap: wrap;<br>            justify-content: flex-start;<br>            width: 100%;<br>        }<br>        .wandb-col {<br>            display: flex;<br>            flex-direction: column;<br>            flex-basis: 100%;<br>            flex: 1;<br>            padding: 10px;<br>        }<br>    </style><br><div class=\"wandb-row\"><div class=\"wandb-col\"><h3>Run history:</h3><br/><table class=\"wandb\"><tr><td>learning-rate</td><td>▁</td></tr><tr><td>train-loss</td><td>▅▃▃▃▄▄▄▂▃▄▃▃▃▂▃▃▃▃▄▄▄▃▅▂▁▂▄▃▄▃▃▄▃▃▁█▂▅▄▂</td></tr></table><br/></div><div class=\"wandb-col\"><h3>Run summary:</h3><br/><table class=\"wandb\"><tr><td>learning-rate</td><td>0.001</td></tr><tr><td>train-loss</td><td>2.34468</td></tr></table><br/></div></div>"
            ]
          },
          "metadata": {}
        },
        {
          "output_type": "display_data",
          "data": {
            "text/plain": [
              "<IPython.core.display.HTML object>"
            ],
            "text/html": [
              " View run <strong style=\"color:#cdcd00\">dutiful-durian-20</strong> at: <a href='https://wandb.ai/gregoire-deletie-hmm/uncategorized/runs/nz39o68k' target=\"_blank\">https://wandb.ai/gregoire-deletie-hmm/uncategorized/runs/nz39o68k</a><br> View project at: <a href='https://wandb.ai/gregoire-deletie-hmm/uncategorized' target=\"_blank\">https://wandb.ai/gregoire-deletie-hmm/uncategorized</a><br>Synced 5 W&B file(s), 8 media file(s), 0 artifact file(s) and 0 other file(s)"
            ]
          },
          "metadata": {}
        },
        {
          "output_type": "display_data",
          "data": {
            "text/plain": [
              "<IPython.core.display.HTML object>"
            ],
            "text/html": [
              "Find logs at: <code>./wandb/run-20250513_093746-nz39o68k/logs</code>"
            ]
          },
          "metadata": {}
        },
        {
          "output_type": "display_data",
          "data": {
            "text/plain": [
              "<IPython.core.display.HTML object>"
            ],
            "text/html": [
              "Tracking run with wandb version 0.19.11"
            ]
          },
          "metadata": {}
        },
        {
          "output_type": "display_data",
          "data": {
            "text/plain": [
              "<IPython.core.display.HTML object>"
            ],
            "text/html": [
              "Run data is saved locally in <code>/content/wandb/run-20250513_093806-9x8w8i4y</code>"
            ]
          },
          "metadata": {}
        },
        {
          "output_type": "display_data",
          "data": {
            "text/plain": [
              "<IPython.core.display.HTML object>"
            ],
            "text/html": [
              "Syncing run <strong><a href='https://wandb.ai/gregoire-deletie-hmm/uncategorized/runs/9x8w8i4y' target=\"_blank\">sparkling-flower-21</a></strong> to <a href='https://wandb.ai/gregoire-deletie-hmm/uncategorized' target=\"_blank\">Weights & Biases</a> (<a href='https://wandb.me/developer-guide' target=\"_blank\">docs</a>)<br>"
            ]
          },
          "metadata": {}
        },
        {
          "output_type": "display_data",
          "data": {
            "text/plain": [
              "<IPython.core.display.HTML object>"
            ],
            "text/html": [
              " View project at <a href='https://wandb.ai/gregoire-deletie-hmm/uncategorized' target=\"_blank\">https://wandb.ai/gregoire-deletie-hmm/uncategorized</a>"
            ]
          },
          "metadata": {}
        },
        {
          "output_type": "display_data",
          "data": {
            "text/plain": [
              "<IPython.core.display.HTML object>"
            ],
            "text/html": [
              " View run at <a href='https://wandb.ai/gregoire-deletie-hmm/uncategorized/runs/9x8w8i4y' target=\"_blank\">https://wandb.ai/gregoire-deletie-hmm/uncategorized/runs/9x8w8i4y</a>"
            ]
          },
          "metadata": {}
        },
        {
          "output_type": "stream",
          "name": "stderr",
          "text": [
            "  0%|          | 0/10 [01:59<?, ?it/s]\n"
          ]
        },
        {
          "output_type": "error",
          "ename": "KeyboardInterrupt",
          "evalue": "",
          "traceback": [
            "\u001b[0;31m---------------------------------------------------------------------------\u001b[0m",
            "\u001b[0;31mKeyboardInterrupt\u001b[0m                         Traceback (most recent call last)",
            "\u001b[0;32m<ipython-input-90-d3e78a7b0157>\u001b[0m in \u001b[0;36m<cell line: 0>\u001b[0;34m()\u001b[0m\n\u001b[1;32m      1\u001b[0m \u001b[0;31m# we have moved all the boilerplate for the full training procedure to utils now\u001b[0m\u001b[0;34m\u001b[0m\u001b[0;34m\u001b[0m\u001b[0m\n\u001b[1;32m      2\u001b[0m \u001b[0mn_epochs\u001b[0m \u001b[0;34m=\u001b[0m \u001b[0;36m10\u001b[0m\u001b[0;34m\u001b[0m\u001b[0;34m\u001b[0m\u001b[0m\n\u001b[0;32m----> 3\u001b[0;31m utils.run_cifar_training(model, optimizer,\n\u001b[0m\u001b[1;32m      4\u001b[0m                          \u001b[0mtrain_loader\u001b[0m\u001b[0;34m,\u001b[0m \u001b[0mval_loader\u001b[0m\u001b[0;34m,\u001b[0m\u001b[0;34m\u001b[0m\u001b[0;34m\u001b[0m\u001b[0m\n\u001b[1;32m      5\u001b[0m                          \u001b[0mdevice\u001b[0m\u001b[0;34m=\u001b[0m\u001b[0mdevice\u001b[0m\u001b[0;34m,\u001b[0m \u001b[0mname\u001b[0m\u001b[0;34m=\u001b[0m\u001b[0;34m'da1'\u001b[0m\u001b[0;34m,\u001b[0m\u001b[0;34m\u001b[0m\u001b[0;34m\u001b[0m\u001b[0m\n",
            "\u001b[0;32m/content/utils.py\u001b[0m in \u001b[0;36mrun_cifar_training\u001b[0;34m(model, optimizer, train_loader, val_loader, device, name, n_epochs)\u001b[0m\n\u001b[1;32m    339\u001b[0m \u001b[0;34m\u001b[0m\u001b[0m\n\u001b[1;32m    340\u001b[0m     \u001b[0;32mfor\u001b[0m \u001b[0mepoch\u001b[0m \u001b[0;32min\u001b[0m \u001b[0mtrange\u001b[0m\u001b[0;34m(\u001b[0m\u001b[0mn_epochs\u001b[0m\u001b[0;34m)\u001b[0m\u001b[0;34m:\u001b[0m\u001b[0;34m\u001b[0m\u001b[0;34m\u001b[0m\u001b[0m\n\u001b[0;32m--> 341\u001b[0;31m         train(\n\u001b[0m\u001b[1;32m    342\u001b[0m             \u001b[0mmodel\u001b[0m\u001b[0;34m,\u001b[0m\u001b[0;34m\u001b[0m\u001b[0;34m\u001b[0m\u001b[0m\n\u001b[1;32m    343\u001b[0m             \u001b[0mtrain_loader\u001b[0m\u001b[0;34m,\u001b[0m\u001b[0;34m\u001b[0m\u001b[0;34m\u001b[0m\u001b[0m\n",
            "\u001b[0;32m/content/utils.py\u001b[0m in \u001b[0;36mtrain\u001b[0;34m(model, loader, loss_function, optimizer, device, epoch, log_image_interval)\u001b[0m\n\u001b[1;32m    244\u001b[0m         \u001b[0;31m# to our optimizer (`optimizer.step()`)\u001b[0m\u001b[0;34m\u001b[0m\u001b[0;34m\u001b[0m\u001b[0m\n\u001b[1;32m    245\u001b[0m         \u001b[0mloss_value\u001b[0m\u001b[0;34m.\u001b[0m\u001b[0mbackward\u001b[0m\u001b[0;34m(\u001b[0m\u001b[0;34m)\u001b[0m\u001b[0;34m\u001b[0m\u001b[0;34m\u001b[0m\u001b[0m\n\u001b[0;32m--> 246\u001b[0;31m         \u001b[0moptimizer\u001b[0m\u001b[0;34m.\u001b[0m\u001b[0mstep\u001b[0m\u001b[0;34m(\u001b[0m\u001b[0;34m)\u001b[0m\u001b[0;34m\u001b[0m\u001b[0;34m\u001b[0m\u001b[0m\n\u001b[0m\u001b[1;32m    247\u001b[0m \u001b[0;34m\u001b[0m\u001b[0m\n\u001b[1;32m    248\u001b[0m         \u001b[0;31m# log the loss value to tensorboard\u001b[0m\u001b[0;34m\u001b[0m\u001b[0;34m\u001b[0m\u001b[0m\n",
            "\u001b[0;32m/usr/local/lib/python3.11/dist-packages/torch/optim/optimizer.py\u001b[0m in \u001b[0;36mwrapper\u001b[0;34m(*args, **kwargs)\u001b[0m\n\u001b[1;32m    491\u001b[0m                             )\n\u001b[1;32m    492\u001b[0m \u001b[0;34m\u001b[0m\u001b[0m\n\u001b[0;32m--> 493\u001b[0;31m                 \u001b[0mout\u001b[0m \u001b[0;34m=\u001b[0m \u001b[0mfunc\u001b[0m\u001b[0;34m(\u001b[0m\u001b[0;34m*\u001b[0m\u001b[0margs\u001b[0m\u001b[0;34m,\u001b[0m \u001b[0;34m**\u001b[0m\u001b[0mkwargs\u001b[0m\u001b[0;34m)\u001b[0m\u001b[0;34m\u001b[0m\u001b[0;34m\u001b[0m\u001b[0m\n\u001b[0m\u001b[1;32m    494\u001b[0m                 \u001b[0mself\u001b[0m\u001b[0;34m.\u001b[0m\u001b[0m_optimizer_step_code\u001b[0m\u001b[0;34m(\u001b[0m\u001b[0;34m)\u001b[0m\u001b[0;34m\u001b[0m\u001b[0;34m\u001b[0m\u001b[0m\n\u001b[1;32m    495\u001b[0m \u001b[0;34m\u001b[0m\u001b[0m\n",
            "\u001b[0;32m/usr/local/lib/python3.11/dist-packages/torch/optim/optimizer.py\u001b[0m in \u001b[0;36m_use_grad\u001b[0;34m(self, *args, **kwargs)\u001b[0m\n\u001b[1;32m     89\u001b[0m             \u001b[0mtorch\u001b[0m\u001b[0;34m.\u001b[0m\u001b[0mset_grad_enabled\u001b[0m\u001b[0;34m(\u001b[0m\u001b[0mself\u001b[0m\u001b[0;34m.\u001b[0m\u001b[0mdefaults\u001b[0m\u001b[0;34m[\u001b[0m\u001b[0;34m\"differentiable\"\u001b[0m\u001b[0;34m]\u001b[0m\u001b[0;34m)\u001b[0m\u001b[0;34m\u001b[0m\u001b[0;34m\u001b[0m\u001b[0m\n\u001b[1;32m     90\u001b[0m             \u001b[0mtorch\u001b[0m\u001b[0;34m.\u001b[0m\u001b[0m_dynamo\u001b[0m\u001b[0;34m.\u001b[0m\u001b[0mgraph_break\u001b[0m\u001b[0;34m(\u001b[0m\u001b[0;34m)\u001b[0m\u001b[0;34m\u001b[0m\u001b[0;34m\u001b[0m\u001b[0m\n\u001b[0;32m---> 91\u001b[0;31m             \u001b[0mret\u001b[0m \u001b[0;34m=\u001b[0m \u001b[0mfunc\u001b[0m\u001b[0;34m(\u001b[0m\u001b[0mself\u001b[0m\u001b[0;34m,\u001b[0m \u001b[0;34m*\u001b[0m\u001b[0margs\u001b[0m\u001b[0;34m,\u001b[0m \u001b[0;34m**\u001b[0m\u001b[0mkwargs\u001b[0m\u001b[0;34m)\u001b[0m\u001b[0;34m\u001b[0m\u001b[0;34m\u001b[0m\u001b[0m\n\u001b[0m\u001b[1;32m     92\u001b[0m         \u001b[0;32mfinally\u001b[0m\u001b[0;34m:\u001b[0m\u001b[0;34m\u001b[0m\u001b[0;34m\u001b[0m\u001b[0m\n\u001b[1;32m     93\u001b[0m             \u001b[0mtorch\u001b[0m\u001b[0;34m.\u001b[0m\u001b[0m_dynamo\u001b[0m\u001b[0;34m.\u001b[0m\u001b[0mgraph_break\u001b[0m\u001b[0;34m(\u001b[0m\u001b[0;34m)\u001b[0m\u001b[0;34m\u001b[0m\u001b[0;34m\u001b[0m\u001b[0m\n",
            "\u001b[0;32m/usr/local/lib/python3.11/dist-packages/torch/optim/adam.py\u001b[0m in \u001b[0;36mstep\u001b[0;34m(self, closure)\u001b[0m\n\u001b[1;32m    242\u001b[0m             )\n\u001b[1;32m    243\u001b[0m \u001b[0;34m\u001b[0m\u001b[0m\n\u001b[0;32m--> 244\u001b[0;31m             adam(\n\u001b[0m\u001b[1;32m    245\u001b[0m                 \u001b[0mparams_with_grad\u001b[0m\u001b[0;34m,\u001b[0m\u001b[0;34m\u001b[0m\u001b[0;34m\u001b[0m\u001b[0m\n\u001b[1;32m    246\u001b[0m                 \u001b[0mgrads\u001b[0m\u001b[0;34m,\u001b[0m\u001b[0;34m\u001b[0m\u001b[0;34m\u001b[0m\u001b[0m\n",
            "\u001b[0;32m/usr/local/lib/python3.11/dist-packages/torch/optim/optimizer.py\u001b[0m in \u001b[0;36mmaybe_fallback\u001b[0;34m(*args, **kwargs)\u001b[0m\n\u001b[1;32m    152\u001b[0m                 \u001b[0;32mreturn\u001b[0m \u001b[0mdisabled_func\u001b[0m\u001b[0;34m(\u001b[0m\u001b[0;34m*\u001b[0m\u001b[0margs\u001b[0m\u001b[0;34m,\u001b[0m \u001b[0;34m**\u001b[0m\u001b[0mkwargs\u001b[0m\u001b[0;34m)\u001b[0m\u001b[0;34m\u001b[0m\u001b[0;34m\u001b[0m\u001b[0m\n\u001b[1;32m    153\u001b[0m             \u001b[0;32melse\u001b[0m\u001b[0;34m:\u001b[0m\u001b[0;34m\u001b[0m\u001b[0;34m\u001b[0m\u001b[0m\n\u001b[0;32m--> 154\u001b[0;31m                 \u001b[0;32mreturn\u001b[0m \u001b[0mfunc\u001b[0m\u001b[0;34m(\u001b[0m\u001b[0;34m*\u001b[0m\u001b[0margs\u001b[0m\u001b[0;34m,\u001b[0m \u001b[0;34m**\u001b[0m\u001b[0mkwargs\u001b[0m\u001b[0;34m)\u001b[0m\u001b[0;34m\u001b[0m\u001b[0;34m\u001b[0m\u001b[0m\n\u001b[0m\u001b[1;32m    155\u001b[0m \u001b[0;34m\u001b[0m\u001b[0m\n\u001b[1;32m    156\u001b[0m         \u001b[0;32mreturn\u001b[0m \u001b[0mmaybe_fallback\u001b[0m\u001b[0;34m\u001b[0m\u001b[0;34m\u001b[0m\u001b[0m\n",
            "\u001b[0;32m/usr/local/lib/python3.11/dist-packages/torch/optim/adam.py\u001b[0m in \u001b[0;36madam\u001b[0;34m(params, grads, exp_avgs, exp_avg_sqs, max_exp_avg_sqs, state_steps, foreach, capturable, differentiable, fused, grad_scale, found_inf, has_complex, amsgrad, beta1, beta2, lr, weight_decay, eps, maximize)\u001b[0m\n\u001b[1;32m    874\u001b[0m         \u001b[0mfunc\u001b[0m \u001b[0;34m=\u001b[0m \u001b[0m_single_tensor_adam\u001b[0m\u001b[0;34m\u001b[0m\u001b[0;34m\u001b[0m\u001b[0m\n\u001b[1;32m    875\u001b[0m \u001b[0;34m\u001b[0m\u001b[0m\n\u001b[0;32m--> 876\u001b[0;31m     func(\n\u001b[0m\u001b[1;32m    877\u001b[0m         \u001b[0mparams\u001b[0m\u001b[0;34m,\u001b[0m\u001b[0;34m\u001b[0m\u001b[0;34m\u001b[0m\u001b[0m\n\u001b[1;32m    878\u001b[0m         \u001b[0mgrads\u001b[0m\u001b[0;34m,\u001b[0m\u001b[0;34m\u001b[0m\u001b[0;34m\u001b[0m\u001b[0m\n",
            "\u001b[0;32m/usr/local/lib/python3.11/dist-packages/torch/optim/adam.py\u001b[0m in \u001b[0;36m_single_tensor_adam\u001b[0;34m(params, grads, exp_avgs, exp_avg_sqs, max_exp_avg_sqs, state_steps, grad_scale, found_inf, amsgrad, has_complex, beta1, beta2, lr, weight_decay, eps, maximize, capturable, differentiable)\u001b[0m\n\u001b[1;32m    474\u001b[0m                 \u001b[0mdenom\u001b[0m \u001b[0;34m=\u001b[0m \u001b[0;34m(\u001b[0m\u001b[0mmax_exp_avg_sqs\u001b[0m\u001b[0;34m[\u001b[0m\u001b[0mi\u001b[0m\u001b[0;34m]\u001b[0m\u001b[0;34m.\u001b[0m\u001b[0msqrt\u001b[0m\u001b[0;34m(\u001b[0m\u001b[0;34m)\u001b[0m \u001b[0;34m/\u001b[0m \u001b[0mbias_correction2_sqrt\u001b[0m\u001b[0;34m)\u001b[0m\u001b[0;34m.\u001b[0m\u001b[0madd_\u001b[0m\u001b[0;34m(\u001b[0m\u001b[0meps\u001b[0m\u001b[0;34m)\u001b[0m\u001b[0;34m\u001b[0m\u001b[0;34m\u001b[0m\u001b[0m\n\u001b[1;32m    475\u001b[0m             \u001b[0;32melse\u001b[0m\u001b[0;34m:\u001b[0m\u001b[0;34m\u001b[0m\u001b[0;34m\u001b[0m\u001b[0m\n\u001b[0;32m--> 476\u001b[0;31m                 \u001b[0mdenom\u001b[0m \u001b[0;34m=\u001b[0m \u001b[0;34m(\u001b[0m\u001b[0mexp_avg_sq\u001b[0m\u001b[0;34m.\u001b[0m\u001b[0msqrt\u001b[0m\u001b[0;34m(\u001b[0m\u001b[0;34m)\u001b[0m \u001b[0;34m/\u001b[0m \u001b[0mbias_correction2_sqrt\u001b[0m\u001b[0;34m)\u001b[0m\u001b[0;34m.\u001b[0m\u001b[0madd_\u001b[0m\u001b[0;34m(\u001b[0m\u001b[0meps\u001b[0m\u001b[0;34m)\u001b[0m\u001b[0;34m\u001b[0m\u001b[0;34m\u001b[0m\u001b[0m\n\u001b[0m\u001b[1;32m    477\u001b[0m \u001b[0;34m\u001b[0m\u001b[0m\n\u001b[1;32m    478\u001b[0m             \u001b[0mparam\u001b[0m\u001b[0;34m.\u001b[0m\u001b[0maddcdiv_\u001b[0m\u001b[0;34m(\u001b[0m\u001b[0mexp_avg\u001b[0m\u001b[0;34m,\u001b[0m \u001b[0mdenom\u001b[0m\u001b[0;34m,\u001b[0m \u001b[0mvalue\u001b[0m\u001b[0;34m=\u001b[0m\u001b[0;34m-\u001b[0m\u001b[0mstep_size\u001b[0m\u001b[0;34m)\u001b[0m\u001b[0;34m\u001b[0m\u001b[0;34m\u001b[0m\u001b[0m\n",
            "\u001b[0;31mKeyboardInterrupt\u001b[0m: "
          ]
        }
      ],
      "source": [
        "# we have moved all the boilerplate for the full training procedure to utils now\n",
        "n_epochs = 10\n",
        "utils.run_cifar_training(model, optimizer,\n",
        "                         train_loader, val_loader,\n",
        "                         device=device, name='da1',\n",
        "                         n_epochs=n_epochs)"
      ]
    },
    {
      "cell_type": "code",
      "execution_count": null,
      "metadata": {
        "id": "CAINshVEzQdJ"
      },
      "outputs": [],
      "source": [
        "# evaluate the model on test data\n",
        "test_dataset = utils.make_cifar_test_dataset(cifar_dir)\n",
        "test_loader = DataLoader(test_dataset, batch_size=25)\n",
        "predictions, labels = utils.validate(model, test_loader, nn.NLLLoss(),\n",
        "                                     device, step=0, logging=False)"
      ]
    },
    {
      "cell_type": "code",
      "execution_count": null,
      "metadata": {
        "id": "sDsUV2PmzQdX"
      },
      "outputs": [],
      "source": [
        "print(\"Test accuracy:\")\n",
        "accuracy = metrics.accuracy_score(labels, predictions)\n",
        "print(accuracy)\n",
        "\n",
        "fig, ax = plt.subplots(1, figsize=(8, 8))\n",
        "utils.make_confusion_matrix(labels, predictions, categories, ax)"
      ]
    },
    {
      "cell_type": "markdown",
      "metadata": {
        "id": "usicpPYzLCZg"
      },
      "source": [
        "## Normalization layers\n",
        "\n",
        "In addition to convolutional layers and pooling layers, another important part of neural networks are normalization layers.\n",
        "\n",
        "These layers keep their input normalized using a learned normalization. The first type of normalization introduced has been [BatchNorm](https://arxiv.org/abs/1502.03167), which we will now add to the CNN architecture from the previous exercise."
      ]
    },
    {
      "cell_type": "code",
      "execution_count": null,
      "metadata": {
        "id": "xEehjuULdLt7"
      },
      "outputs": [],
      "source": [
        "import torch.nn.functional as F\n",
        "\n",
        "class CNNBatchNorm(nn.Module):\n",
        "    def __init__(self, n_classes):\n",
        "        super().__init__()\n",
        "        self.n_classes = n_classes\n",
        "\n",
        "        # the convolutions\n",
        "        self.conv1 = nn.Conv2d(in_channels=3, out_channels=12, kernel_size=5)\n",
        "        self.conv2 = nn.Conv2d(in_channels=12, out_channels=24, kernel_size=3)\n",
        "        # the pooling layer\n",
        "        self.pool = nn.MaxPool2d(2, 2)\n",
        "        # the normalization layers\n",
        "        self.bn1 = nn.BatchNorm2d(12)\n",
        "        self.bn2 = nn.BatchNorm2d(24)\n",
        "\n",
        "        # the fully connected part of the network\n",
        "        # after applying the convolutions and poolings, the tensor\n",
        "        # has the shape 24 x 6 x 6, see below\n",
        "        self.fc = nn.Sequential(\n",
        "            nn.Linear(24 * 6 * 6, 120),\n",
        "            nn.ReLU(),\n",
        "            nn.Linear(120, 60),\n",
        "            nn.ReLU(),\n",
        "            nn.Linear(60, self.n_classes)\n",
        "        )\n",
        "        self.activation = nn.LogSoftmax(dim=1)\n",
        "\n",
        "    def apply_convs(self, x):\n",
        "      # input image has shape 3 x  32 x 32\n",
        "      x = self.pool(F.relu(self.bn1(self.conv1(x))))\n",
        "      # shape after conv: 12 x 28 x 28\n",
        "      # shape after pooling: 12 x 14 X 14\n",
        "      x = self.pool(F.relu(self.bn2(self.conv2(x))))\n",
        "      # shape after conv: 24 x 12 x 12\n",
        "      # shape after pooling: 24 x 6 x 6\n",
        "      return x\n",
        "\n",
        "    def forward(self, x):\n",
        "        x = self.apply_convs(x)\n",
        "        x = x.view(-1, 24 * 6 * 6)\n",
        "        x = self.fc(x)\n",
        "        x = self.activation(x)\n",
        "        return x"
      ]
    },
    {
      "cell_type": "code",
      "execution_count": null,
      "metadata": {
        "id": "GnlL64h1fBE0"
      },
      "outputs": [],
      "source": [
        "# instantiate model and optimizer\n",
        "model = CNNBatchNorm(10)\n",
        "model = model.to(device)\n",
        "optimizer = Adam(model.parameters(), lr=1.e-3)"
      ]
    },
    {
      "cell_type": "code",
      "execution_count": null,
      "metadata": {
        "id": "8LI_7UjYfapv"
      },
      "outputs": [],
      "source": [
        "n_epochs = 10\n",
        "utils.run_cifar_training(model, optimizer,\n",
        "                         train_loader, val_loader,\n",
        "                         device=device, name='batch-norm',\n",
        "                         n_epochs=n_epochs)"
      ]
    },
    {
      "cell_type": "code",
      "execution_count": null,
      "metadata": {
        "id": "Rkx-4mVRiG3l"
      },
      "outputs": [],
      "source": [
        "model = utils.load_checkpoint(\"best_checkpoint_batch-norm.tar\", model, optimizer)[0]"
      ]
    },
    {
      "cell_type": "code",
      "execution_count": null,
      "metadata": {
        "id": "zfFBV5nYf1Fx"
      },
      "outputs": [],
      "source": [
        "predictions, labels = utils.validate(model, test_loader, nn.NLLLoss(),\n",
        "                                     device, step=0, logging=False)\n",
        "\n",
        "print(\"Test accuracy:\")\n",
        "accuracy = metrics.accuracy_score(labels, predictions)\n",
        "print(accuracy)\n",
        "\n",
        "fig, ax = plt.subplots(1, figsize=(8, 8))\n",
        "utils.make_confusion_matrix(labels, predictions, categories, ax)"
      ]
    },
    {
      "cell_type": "markdown",
      "metadata": {
        "id": "uQUvUBL2zQdd"
      },
      "source": [
        "## Tasks and Questions\n",
        "\n",
        "Tasks:\n",
        "- Implement one or two additional augmentations and train the model again using these. You can use [the torchvision transformations](https://pytorch.org/vision/stable/transforms.html) for inspiration.\n",
        "\n",
        "Questions:\n",
        "- Compare the model results in this exercise.\n",
        "- Can you think of any transformations that make use of symmetries/invariances not present here but present in other kinds of images (e.g. biomedical images)?\n",
        "\n",
        "Advanced:\n",
        "- Check out the other [normalization layers available in pytorch](https://pytorch.org/docs/stable/nn.html#normalization-layers). Which layers could be beneficial to BatchNorm here? Try training with them and see if this improves performance further."
      ]
    }
  ],
  "metadata": {
    "accelerator": "GPU",
    "colab": {
      "name": "3_multi_layer_perceptron.ipynb",
      "provenance": [],
      "gpuType": "T4"
    },
    "kernelspec": {
      "display_name": "Python 3",
      "name": "python3"
    },
    "language_info": {
      "codemirror_mode": {
        "name": "ipython",
        "version": 3
      },
      "file_extension": ".py",
      "mimetype": "text/x-python",
      "name": "python",
      "nbconvert_exporter": "python",
      "pygments_lexer": "ipython3",
      "version": "3.11.7"
    }
  },
  "nbformat": 4,
  "nbformat_minor": 0
}